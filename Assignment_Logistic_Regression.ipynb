{
  "nbformat": 4,
  "nbformat_minor": 0,
  "metadata": {
    "colab": {
      "provenance": []
    },
    "kernelspec": {
      "name": "python3",
      "display_name": "Python 3"
    },
    "language_info": {
      "name": "python"
    }
  },
  "cells": [
    {
      "cell_type": "code",
      "source": [
        "# --------------------------------------------\n",
        "# Logistic Regression Model on Titanic Dataset\n",
        "# --------------------------------------------\n",
        "\n",
        "# Import necessary libraries\n",
        "import pandas as pd\n",
        "from sklearn.model_selection import train_test_split\n",
        "from sklearn.preprocessing import LabelEncoder, StandardScaler\n",
        "from sklearn.linear_model import LogisticRegression\n",
        "from sklearn.metrics import (\n",
        "    accuracy_score, precision_score, recall_score, f1_score,\n",
        "    roc_auc_score, roc_curve\n",
        ")\n",
        "import matplotlib.pyplot as plt\n",
        "\n",
        "# -----------------------------\n",
        "# Step 1: Load the datasets\n",
        "# -----------------------------\n",
        "train_data = pd.read_csv(\"Titanic_train.csv\")\n",
        "test_data = pd.read_csv(\"Titanic_test.csv\")\n",
        "\n",
        "# -----------------------------\n",
        "# Step 2: Data Preprocessing\n",
        "# -----------------------------\n",
        "\n",
        "# Drop unnecessary columns\n",
        "train_data = train_data.drop(['PassengerId', 'Name', 'Ticket', 'Cabin'], axis=1)\n",
        "test_data = test_data.drop(['PassengerId', 'Name', 'Ticket', 'Cabin'], axis=1, errors='ignore')\n",
        "\n",
        "# Handle missing values\n",
        "train_data['Age'].fillna(train_data['Age'].median(), inplace=True)\n",
        "train_data['Embarked'].fillna(train_data['Embarked'].mode()[0], inplace=True)\n",
        "\n",
        "# Encode categorical variables (Sex, Embarked)\n",
        "le = LabelEncoder()\n",
        "train_data['Sex'] = le.fit_transform(train_data['Sex'])\n",
        "train_data['Embarked'] = le.fit_transform(train_data['Embarked'])\n",
        "\n",
        "# -----------------------------\n",
        "# Step 3: Split into features and target\n",
        "# -----------------------------\n",
        "feature_names = ['Pclass', 'Sex', 'Age', 'SibSp', 'Parch', 'Fare', 'Embarked']\n",
        "X = train_data[feature_names]\n",
        "y = train_data['Survived']\n",
        "\n",
        "# Split data into training and testing sets\n",
        "X_train, X_test, y_train, y_test = train_test_split(\n",
        "    X, y, test_size=0.2, random_state=42, stratify=y\n",
        ")\n",
        "\n",
        "# -----------------------------\n",
        "# Step 4: Feature Scaling\n",
        "# -----------------------------\n",
        "scaler = StandardScaler()\n",
        "X_train = scaler.fit_transform(X_train)\n",
        "X_test = scaler.transform(X_test)\n",
        "\n",
        "# -----------------------------\n",
        "# Step 5: Build and Train Model\n",
        "# -----------------------------\n",
        "log_model = LogisticRegression(max_iter=1000)\n",
        "log_model.fit(X_train, y_train)\n",
        "\n",
        "# -----------------------------\n",
        "# Step 6: Make Predictions\n",
        "# -----------------------------\n",
        "y_pred = log_model.predict(X_test)\n",
        "y_pred_proba = log_model.predict_proba(X_test)[:, 1]\n",
        "\n",
        "# -----------------------------\n",
        "# Step 7: Model Evaluation\n",
        "# -----------------------------\n",
        "accuracy = accuracy_score(y_test, y_pred)\n",
        "precision = precision_score(y_test, y_pred)\n",
        "recall = recall_score(y_test, y_pred)\n",
        "f1 = f1_score(y_test, y_pred)\n",
        "roc_auc = roc_auc_score(y_test, y_pred_proba)\n",
        "\n",
        "print(\"Model Evaluation Metrics:\")\n",
        "print(f\"Accuracy:  {accuracy:.4f}\")\n",
        "print(f\"Precision: {precision:.4f}\")\n",
        "print(f\"Recall:    {recall:.4f}\")\n",
        "print(f\"F1-Score:  {f1:.4f}\")\n",
        "print(f\"ROC-AUC:   {roc_auc:.4f}\")\n",
        "\n",
        "# -----------------------------\n",
        "# Step 8: Visualize ROC Curve\n",
        "# -----------------------------\n",
        "fpr, tpr, thresholds = roc_curve(y_test, y_pred_proba)\n",
        "\n",
        "plt.figure(figsize=(7, 5))\n",
        "plt.plot(fpr, tpr, color='blue', label=f\"ROC Curve (AUC = {roc_auc:.2f})\")\n",
        "plt.plot([0, 1], [0, 1], color='gray', linestyle='--', label=\"Random Classifier\")\n",
        "plt.xlabel(\"False Positive Rate\")\n",
        "plt.ylabel(\"True Positive Rate\")\n",
        "plt.title(\"ROC Curve - Logistic Regression (Titanic Dataset)\")\n",
        "plt.legend()\n",
        "plt.grid(True)\n",
        "plt.show()\n"
      ],
      "metadata": {
        "colab": {
          "base_uri": "https://localhost:8080/",
          "height": 840
        },
        "id": "py82OvvUjbos",
        "outputId": "135e5b60-7227-4f44-fa2d-96766271aeab"
      },
      "execution_count": 16,
      "outputs": [
        {
          "output_type": "stream",
          "name": "stderr",
          "text": [
            "/tmp/ipython-input-3492670541.py:31: FutureWarning: A value is trying to be set on a copy of a DataFrame or Series through chained assignment using an inplace method.\n",
            "The behavior will change in pandas 3.0. This inplace method will never work because the intermediate object on which we are setting values always behaves as a copy.\n",
            "\n",
            "For example, when doing 'df[col].method(value, inplace=True)', try using 'df.method({col: value}, inplace=True)' or df[col] = df[col].method(value) instead, to perform the operation inplace on the original object.\n",
            "\n",
            "\n",
            "  train_data['Age'].fillna(train_data['Age'].median(), inplace=True)\n",
            "/tmp/ipython-input-3492670541.py:32: FutureWarning: A value is trying to be set on a copy of a DataFrame or Series through chained assignment using an inplace method.\n",
            "The behavior will change in pandas 3.0. This inplace method will never work because the intermediate object on which we are setting values always behaves as a copy.\n",
            "\n",
            "For example, when doing 'df[col].method(value, inplace=True)', try using 'df.method({col: value}, inplace=True)' or df[col] = df[col].method(value) instead, to perform the operation inplace on the original object.\n",
            "\n",
            "\n",
            "  train_data['Embarked'].fillna(train_data['Embarked'].mode()[0], inplace=True)\n"
          ]
        },
        {
          "output_type": "stream",
          "name": "stdout",
          "text": [
            "Model Evaluation Metrics:\n",
            "Accuracy:  0.7989\n",
            "Precision: 0.7797\n",
            "Recall:    0.6667\n",
            "F1-Score:  0.7188\n",
            "ROC-AUC:   0.8519\n"
          ]
        },
        {
          "output_type": "display_data",
          "data": {
            "text/plain": [
              "<Figure size 700x500 with 1 Axes>"
            ],
            "image/png": "[encoded data removed]"
          },
          "metadata": {}
        }
      ]
    },
    {
      "cell_type": "code",
      "source": [
        "# Get the coefficients and intercept\n",
        "coefficients = log_model.coef_[0]\n",
        "intercept = log_model.intercept_[0]\n",
        "\n",
        "# Get the feature names from the original DataFrame before scaling\n",
        "feature_names = X.columns\n",
        "\n",
        "# Create a pandas Series to easily view coefficients with their corresponding feature names\n",
        "coef_series = pd.Series(coefficients, index=feature_names)\n",
        "\n",
        "print(\"Model Intercept:\")\n",
        "print(intercept)\n",
        "print(\"\\nModel Coefficients:\")\n",
        "display(coef_series)"
      ],
      "metadata": {
        "colab": {
          "base_uri": "https://localhost:8080/",
          "height": 373
        },
        "id": "vPYkDpovkLP9",
        "outputId": "de0c4d65-0fd7-4241-86a1-e4e6033328c0"
      },
      "execution_count": 17,
      "outputs": [
        {
          "output_type": "stream",
          "name": "stdout",
          "text": [
            "Model Intercept:\n",
            "-0.6516503349353179\n",
            "\n",
            "Model Coefficients:\n"
          ]
        },
        {
          "output_type": "display_data",
          "data": {
            "text/plain": [
              "Pclass     -0.889408\n",
              "Sex        -1.285336\n",
              "Age        -0.495228\n",
              "SibSp      -0.265111\n",
              "Parch      -0.082296\n",
              "Fare        0.098486\n",
              "Embarked   -0.184912\n",
              "dtype: float64"
            ],
            "text/html": [
              "<div>\n",
              "<style scoped>\n",
              "    .dataframe tbody tr th:only-of-type {\n",
              "        vertical-align: middle;\n",
              "    }\n",
              "\n",
              "    .dataframe tbody tr th {\n",
              "        vertical-align: top;\n",
              "    }\n",
              "\n",
              "    .dataframe thead th {\n",
              "        text-align: right;\n",
              "    }\n",
              "</style>\n",
              "<table border=\"1\" class=\"dataframe\">\n",
              "  <thead>\n",
              "    <tr style=\"text-align: right;\">\n",
              "      <th></th>\n",
              "      <th>0</th>\n",
              "    </tr>\n",
              "  </thead>\n",
              "  <tbody>\n",
              "    <tr>\n",
              "      <th>Pclass</th>\n",
              "      <td>-0.889408</td>\n",
              "    </tr>\n",
              "    <tr>\n",
              "      <th>Sex</th>\n",
              "      <td>-1.285336</td>\n",
              "    </tr>\n",
              "    <tr>\n",
              "      <th>Age</th>\n",
              "      <td>-0.495228</td>\n",
              "    </tr>\n",
              "    <tr>\n",
              "      <th>SibSp</th>\n",
              "      <td>-0.265111</td>\n",
              "    </tr>\n",
              "    <tr>\n",
              "      <th>Parch</th>\n",
              "      <td>-0.082296</td>\n",
              "    </tr>\n",
              "    <tr>\n",
              "      <th>Fare</th>\n",
              "      <td>0.098486</td>\n",
              "    </tr>\n",
              "    <tr>\n",
              "      <th>Embarked</th>\n",
              "      <td>-0.184912</td>\n",
              "    </tr>\n",
              "  </tbody>\n",
              "</table>\n",
              "</div><br><label><b>dtype:</b> float64</label>"
            ]
          },
          "metadata": {}
        }
      ]
    },
    {
      "cell_type": "markdown",
      "source": [
        "**Discussion on the Significance of Features:**\n",
        "\n",
        "Based on the logistic regression model's coefficients displayed above, we can interpret the significance of each feature in predicting the probability of survival:\n",
        "\n",
        "*   **Sex:** The coefficient for 'Sex' is significantly negative. Assuming 'Sex' was encoded as 1 for male and 0 for female, this indicates that being male has a strong negative impact on the log-odds of survival compared to being female. In other words, females were significantly more likely to survive than males, which aligns with historical accounts of the Titanic disaster (women and children first).\n",
        "\n",
        "*   **Pclass:** The coefficient for 'Pclass' is also negative. This suggests that being in a higher passenger class (Pclass 1 being the highest) is associated with a lower log-odds of survival compared to being in a lower class (Pclass 3 being the lowest). This is counterintuitive and might be influenced by other factors or the encoding of 'Pclass'. However, if Pclass is encoded such that higher numbers represent lower classes, then a negative coefficient would mean being in a lower class decreases the log-odds of survival, which makes more sense. *[Note: Need to confirm the encoding of Pclass to be precise in interpretation]*.\n",
        "\n",
        "*   **Age:** The negative coefficient for 'Age' suggests that older individuals had a slightly lower log-odds of survival compared to younger individuals.\n",
        "\n",
        "*   **SibSp (Number of Siblings/Spouses Aboard):** The negative coefficient for 'SibSp' indicates that having more siblings or spouses aboard is associated with a slightly lower log-odds of survival.\n",
        "\n",
        "*   **Parch (Number of Parents/Children Aboard):** The negative coefficient for 'Parch' suggests that having more parents or children aboard is associated with a slightly lower log-odds of survival. The magnitude of this coefficient is smaller than 'SibSp', indicating a weaker impact.\n",
        "\n",
        "*   **Fare:** The positive coefficient for 'Fare' indicates that a higher fare paid is associated with a higher log-odds of survival. This makes sense as passengers who paid higher fares were likely in higher classes with better access to lifeboats.\n",
        "\n",
        "*   **Embarked:** The negative coefficient for 'Embarked' suggests that the port of embarkation has some influence on survival, but its impact appears to be less significant compared to 'Sex' or 'Pclass' based on the magnitude of the coefficient. *[Note: Need to confirm the encoding of Embarked to be precise in interpretation]*.\n",
        "\n",
        "**In summary,** 'Sex' appears to be the most significant predictor of survival in this model, with females having a considerably higher chance of surviving. Passenger class and fare also show notable associations with survival probability."
      ],
      "metadata": {
        "id": "ZYDMe6lbl6Ab"
      }
    },
    {
      "cell_type": "code",
      "source": [
        "import pickle\n",
        "print(\"\\n7. Saving model...\")\n",
        "with open('titanic_model.pkl', 'wb') as f:\n",
        "    pickle.dump({\n",
        "        'model': log_model,\n",
        "        'scaler': scaler,\n",
        "        'label_encoders': le,\n",
        "        'features': feature_names\n",
        "    }, f)\n",
        "\n",
        "print(\"Model saved as 'titanic_model.pkl'\")\n",
        "print(\"Analysis complete!\")"
      ],
      "metadata": {
        "colab": {
          "base_uri": "https://localhost:8080/"
        },
        "id": "eyNluaEDmMoL",
        "outputId": "7676adb8-6f13-47f6-ea46-f5e26caa80bb"
      },
      "execution_count": 19,
      "outputs": [
        {
          "output_type": "stream",
          "name": "stdout",
          "text": [
            "\n",
            "7. Saving model...\n",
            "Model saved as 'titanic_model.pkl'\n",
            "Analysis complete!\n"
          ]
        }
      ]
    }
  ]
}